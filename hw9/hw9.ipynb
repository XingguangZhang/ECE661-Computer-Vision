{
 "metadata": {
  "language_info": {
   "codemirror_mode": {
    "name": "ipython",
    "version": 3
   },
   "file_extension": ".py",
   "mimetype": "text/x-python",
   "name": "python",
   "nbconvert_exporter": "python",
   "pygments_lexer": "ipython3",
   "version": "3.6.9-final"
  },
  "orig_nbformat": 2,
  "kernelspec": {
   "name": "python36964bitdpc68eb51050544ed78d4a86cfb52d36e7",
   "display_name": "Python 3.6.9 64-bit ('dp')"
  }
 },
 "nbformat": 4,
 "nbformat_minor": 2,
 "cells": [
  {
   "cell_type": "code",
   "execution_count": 1,
   "metadata": {},
   "outputs": [],
   "source": [
    "import cv2\n",
    "import numpy as np\n",
    "import os\n",
    "import math\n",
    "import matplotlib.pyplot as plt\n",
    "from scipy.optimize import least_squares\n",
    "\n",
    "path_root = '/home/xingguang/Documents/ECE661/hw9/Files'"
   ]
  },
  {
   "cell_type": "code",
   "execution_count": 2,
   "metadata": {},
   "outputs": [],
   "source": [
    "# for my own images:\n",
    "# img_dataset = os.path.join(path_root, 'Dataset')\n",
    "# images = []\n",
    "# for i in range(len(os.listdir(img_dataset))):\n",
    "#     im_path = os.path.join(img_dataset, str(i+1)+'.jpg')\n",
    "#     images.append(cv2.resize(cv2.imread(im_path), (750, 1000)))\n",
    "\n",
    "# for the given images\n",
    "img_dataset = os.path.join(path_root, 'Dataset')\n",
    "images = []\n",
    "for i in range(len(os.listdir(img_dataset))):\n",
    "    im_path = os.path.join(img_dataset, 'Pic_'+str(i+1)+'.jpg')\n",
    "    images.append(cv2.imread(im_path))"
   ]
  },
  {
   "cell_type": "code",
   "execution_count": 3,
   "metadata": {},
   "outputs": [],
   "source": [
    "def make_pattern(grid_size, hline_num, vline_num):\n",
    "    # ma\n",
    "    x = np.linspace(0, grid_size*(vline_num-1), vline_num)\n",
    "    y = np.linspace(0, grid_size*(hline_num-1), hline_num)\n",
    "    xv, yv = np.meshgrid(x, y)\n",
    "    return np.concatenate([xv.reshape((-1,1)), yv.reshape((-1,1))], axis=1)\n",
    "\n",
    "\n",
    "def cvtPoint(lines, r):\n",
    "    rho = lines[:, 0]\n",
    "    theta = lines[:, 1]\n",
    "    a = np.cos(theta)\n",
    "    b = np.sin(theta)\n",
    "    x0 = a * rho\n",
    "    y0 = b * rho\n",
    "    pt1 = np.array([x0 + r * (-b), y0 + r * a]).T\n",
    "    pt2 = np.array([x0 - r * (-b), y0 - r * a]).T\n",
    "    return pt1, pt2\n",
    "\n",
    "def rearrange(p1, p2, v=True):\n",
    "    p1_list = []\n",
    "    p2_list = []\n",
    "    for i in range(p1.shape[0]):\n",
    "        if v:\n",
    "            if p1[i, 1] > 0 and p2[i, 1] <0:\n",
    "                p1_list.append(p1[i])\n",
    "                p2_list.append(p2[i])\n",
    "            elif p1[i, 1] < 0 and p2[i, 1] > 0:\n",
    "                p1_list.append(p2[i])\n",
    "                p2_list.append(p1[i])               \n",
    "        else:\n",
    "            if p1[i, 0] > 0 and p2[i, 0] <0:\n",
    "                p1_list.append(p1[i])\n",
    "                p2_list.append(p2[i])\n",
    "            elif p1[i, 0] < 0 and p2[i, 0] > 0:\n",
    "                p1_list.append(p2[i])\n",
    "                p2_list.append(p1[i])\n",
    "    return np.concatenate(p1_list, axis=0).reshape((-1, 2)),\\\n",
    "            np.concatenate(p2_list, axis=0).reshape((-1, 2))\n",
    "\n",
    "def nmsLines(lines, p1, p2, nms_ratio=0.25, v=True):\n",
    "    if v:\n",
    "        # d = np.abs(lines[:, 0] * np.cos(lines[:, 1]))\n",
    "        d = lines[:, 0] * np.cos(lines[:, 1])\n",
    "        d_abs = np.abs(d)\n",
    "        nms_thres = nms_ratio * (np.max(d_abs) - np.min(d_abs)) / 7\n",
    "    else:\n",
    "        # d = np.abs(lines[:, 0] * np.sin(lines[:, 1]))\n",
    "        d = lines[:, 0] * np.sin(lines[:, 1])\n",
    "        d_abs = np.abs(d)\n",
    "        nms_thres = nms_ratio * (np.max(d_abs) - np.min(d_abs)) / 9\n",
    "    \n",
    "    idx = np.argsort(d, axis=0)\n",
    "    d_sort = d[idx]\n",
    "    valid_id = []\n",
    "    temp_ids = []\n",
    "    for i in range(d_sort.shape[0]-1):\n",
    "        if i == 0:\n",
    "            temp_ids.append(idx[i])\n",
    "        if d_sort[i+1] - d_sort[i] < nms_thres:\n",
    "            temp_ids.append(idx[i+1])\n",
    "        else:\n",
    "            valid_id.append(temp_ids)\n",
    "            temp_ids = [idx[i+1]]\n",
    "        if i == d_sort.shape[0]-2:\n",
    "            valid_id.append(temp_ids)\n",
    "\n",
    "    p1_list = []\n",
    "    p2_list = []\n",
    "    for ids in valid_id:\n",
    "        p1_list.append(np.average(p1[ids], axis=0))\n",
    "        p2_list.append(np.average(p2[ids], axis=0))\n",
    "    return np.concatenate(p1_list, axis=0).reshape((-1, 2)),\\\n",
    "            np.concatenate(p2_list, axis=0).reshape((-1, 2))\n",
    "\n",
    "\n",
    "def drawLines(img, p1, p2, c):\n",
    "    out = img.copy()\n",
    "    for i in range(0, p1.shape[0]):\n",
    "        pt1 = (int(p1[i, 0].item()), int(p1[i, 1].item()))\n",
    "        pt2 = (int(p2[i, 0].item()), int(p2[i, 1].item()))\n",
    "        cv2.line(out, pt1, pt2, c, 2)\n",
    "    return out\n",
    "\n",
    "def drawPoints(img, p, with_text=True, c=(0, 0, 255)):\n",
    "    out = img.copy()\n",
    "    for i in range(p.shape[0]):\n",
    "        point = (int(p[i,0].item()), int(p[i,1].item()))\n",
    "        out = cv2.circle(out, point, radius=3, color=c, thickness=-1)\n",
    "        if with_text:\n",
    "            out = cv2.putText(out, str(i), point, cv2.FONT_HERSHEY_SIMPLEX, 0.5, (255, 255, 0), 1, cv2.LINE_AA) \n",
    "    return out"
   ]
  },
  {
   "cell_type": "code",
   "execution_count": 4,
   "metadata": {},
   "outputs": [],
   "source": [
    "def find_itsc(vp1, vp2, hp1, hp2):\n",
    "    vp1 = np.append(vp1, np.ones((vp1.shape[0],1)), axis=1)\n",
    "    vp2 = np.append(vp2, np.ones((vp1.shape[0],1)), axis=1)\n",
    "    hp1 = np.append(hp1, np.ones((hp1.shape[0],1)), axis=1)\n",
    "    hp2 = np.append(hp2, np.ones((hp2.shape[0],1)), axis=1)\n",
    "    v_lines = np.cross(vp1, vp2)\n",
    "    h_lines = np.cross(hp1, hp2)\n",
    "    points = []\n",
    "    for i in range(h_lines.shape[0]):\n",
    "        itscs = np.cross(v_lines, h_lines[i])\n",
    "        points.append(itscs[:,:2]/itscs[:, 2].reshape((-1,1)))\n",
    "    return np.concatenate(points, axis=0)\n",
    "\n",
    "\n",
    "def extract_intersections_from_image(in_img, nms_ratio, i, r=0.5, t=50, save_imgs=True):\n",
    "    raw_img = np.copy(in_img) \n",
    "    gray = cv2.GaussianBlur(cv2.cvtColor(raw_img, cv2.COLOR_BGR2GRAY), (3, 3), 1.4)\n",
    "    edges = cv2.Canny(gray, 255*1.5,255)\n",
    "    lines = cv2.HoughLines(edges, 1, r*np.pi / 180, t)\n",
    "    lines = np.squeeze(lines)   \n",
    "    # cos(theta)^2 > cos(pi/2)^2 ~ verticle\n",
    "    vlines = lines[np.where(np.cos(lines[:,1]) ** 2 > 0.5)]\n",
    "    vp1, vp2 = cvtPoint(vlines, 1000)\n",
    "    vp1, vp2 = rearrange(vp1, vp2, v=True)\n",
    "    vp1, vp2 = nmsLines(vlines, vp1, vp2, nms_ratio, v=True)\n",
    "    if vlines is not None:\n",
    "        img = drawLines(raw_img, vp1, vp2, c=(0,255,0))\n",
    "\n",
    "    # cos(theta)^2 <= cos(pi/2)^2 ~ horizontal\n",
    "    hlines = lines[np.where(np.cos(lines[:,1]) ** 2 <= 0.5)]\n",
    "    hp1, hp2 = cvtPoint(hlines, 1000)\n",
    "    hp1, hp2 = rearrange(hp1, hp2, v=False)\n",
    "    hp1, hp2 = nmsLines(hlines, hp1, hp2, nms_ratio, v=False)\n",
    "    if hlines is not None:\n",
    "        img = drawLines(img, hp1, hp2, c=(255,0,0))\n",
    "    intersections = find_itsc(vp1, vp2, hp1, hp2)\n",
    "    img_with_points = drawPoints(raw_img, p=intersections)\n",
    "    if save_imgs:\n",
    "        p1, p2 = cvtPoint(lines, 1000)\n",
    "        img_Hough = drawLines(raw_img, p1, p2, c=(255,255,255))\n",
    "        cv2.imwrite(os.path.join(path_root, \"HoughTrans\", \"h_\"+str(i)+'.jpg'), img_Hough)\n",
    "        cv2.imwrite(os.path.join(path_root, \"Hough_filtered\", \"hf_\"+str(i)+'.jpg'), img)\n",
    "        cv2.imwrite(os.path.join(path_root, \"Canny\", \"edge_\"+str(i)+'.jpg'), edges)\n",
    "        cv2.imwrite(os.path.join(path_root, \"Intersections\", \"itsc_\"+str(i)+'.jpg'), img_with_points)\n",
    "    return intersections"
   ]
  },
  {
   "cell_type": "code",
   "execution_count": 5,
   "metadata": {},
   "outputs": [],
   "source": [
    "def findHomoproj(source, target):\n",
    "    # target = source * H^T\n",
    "    def F_unit(source_point, target_point):\n",
    "        x, y = source_point[0], source_point[1]\n",
    "        x_, y_ = target_point[0], target_point[1]\n",
    "        return np.asarray([[x, y, 1, 0, 0, 0, -x*x_, -y*x_], \n",
    "                        [0, 0, 0, x, y, 1, -x*y_, -y*y_]])\n",
    "    F_list = [F_unit(source[i], target[i]) for i in range(source.shape[0])]\n",
    "    F = np.concatenate(F_list, axis=0)\n",
    "    T_span = target.reshape((-1,1))\n",
    "    H_param = np.dot(np.linalg.pinv(F), T_span)\n",
    "    H = np.ones((9, 1))\n",
    "    H[:8, :] = H_param\n",
    "    return H.reshape((3, 3))\n",
    "\n",
    "def findOmega(H_list):\n",
    "    def V_unit(H):\n",
    "        h11, h12, h13 = (H[0,0], H[1,0], H[2,0])\n",
    "        h21, h22, h23 = (H[0,1], H[1,1], H[2,1])\n",
    "        return np.asarray([[h11*h21, h11*h22+h12*h21, h12*h22, \\\n",
    "                h13*h21+h11*h23, h13*h22+h12*h23, h13*h23],\\\n",
    "                [h11**2-h21**2, 2*h11*h12-2*h21*h22, h12**2-h22**2, \\\n",
    "                2*h11*h13-2*h21*h23, 2*h12*h13-2*h22*h23, h13**2-h23**2]])\n",
    "    V_list = [V_unit(H) for H in H_list]\n",
    "    V = np.concatenate(V_list, axis=0)\n",
    "    _, _, v = np.linalg.svd(V)\n",
    "    b = v[-1]\n",
    "    Omega = np.array([[b[0],b[1],b[3]], [b[1],b[2],b[4]], [b[3],b[4],b[5]]])\n",
    "    return Omega\n",
    "\n",
    "def findK(omega):\n",
    "    w = np.copy(omega)\n",
    "    v0 = (w[0,1]*w[0,2] - w[0,0]*w[1,2]) / (w[0,0]*w[1,1] - w[0,1]**2)\n",
    "    lamda = w[2,2] - (w[0,2]**2 + v0 * (w[0,1]*w[0,2] - w[0,0]*w[1,2])) / w[0,0]\n",
    "    a_x = np.sqrt(lamda / w[0,0])\n",
    "    a_y = np.sqrt(lamda * w[0,0] / (w[0,0]*w[1,1] - w[0,1]**2))\n",
    "    s = -w[0,1] * a_x**2 * a_y / lamda\n",
    "    u0 = s * v0 / a_y - w[0,2] * a_x**2 / lamda\n",
    "    K = np.array([[a_x, s, u0], [0, a_y, v0], [0, 0, 1]])\n",
    "    return K\n",
    "\n",
    "def findRt(H_list, K):\n",
    "    R_list = []\n",
    "    t_list = []\n",
    "    for H in H_list:\n",
    "        r12_t = np.dot(np.linalg.inv(K), H)\n",
    "        lamda = 1 / np.linalg.norm(r12_t[:,0])\n",
    "        r12_t = lamda * r12_t\n",
    "        r3 = np.cross(r12_t[:,0], r12_t[:, 1])\n",
    "        Q = np.copy(r12_t)\n",
    "        Q[:, 2] = r3\n",
    "        u, _, v = np.linalg.svd(Q)\n",
    "        R = np.dot(u, v)\n",
    "        R_list.append(R)\n",
    "        t_list.append(r12_t[:, 2].copy())\n",
    "    return R_list, t_list"
   ]
  },
  {
   "cell_type": "code",
   "execution_count": 6,
   "metadata": {},
   "outputs": [],
   "source": [
    "def projTransform(H, source):\n",
    "    nps = source.shape[0]\n",
    "    source_rep = np.concatenate((source, np.ones((nps,1))), axis=1)\n",
    "    t_homo = np.dot(H, source_rep.T).T\n",
    "    t_norm = t_homo[:,:2] / t_homo[:,2].reshape((nps,1))\n",
    "    return t_norm\n",
    "\n",
    "def construct_params(R_list, t_list, K):\n",
    "    Rt_list = []\n",
    "    for R, t in zip(R_list, t_list):\n",
    "        phi = np.arccos((np.trace(R)-1)/2)\n",
    "        w = phi / (2 * np.sin(phi)) * np. asarray([\n",
    "            R[2,1] - R[1,2], R[0,2] - R[2,0], R[1,0] - R[0,1]])\n",
    "        Rt_list.append(np.append(w, t))\n",
    "    K_param = np.asarray([K[0,0], K[0,1], K[0,2], K[1,1], K[1,2]])\n",
    "    params = np.append(K_param, np.concatenate(Rt_list))\n",
    "    return params\n",
    "\n",
    "def reconstruct_mat(lm_params):\n",
    "    N = int((lm_params.shape[0]-5) / 6)\n",
    "    k = lm_params[:5]\n",
    "    K = np.array([[k[0], k[1], k[2]], [0, k[3], k[4]], [0, 0, 1]])\n",
    "    R_list = []\n",
    "    t_list = []\n",
    "    for i in range(N):\n",
    "        w = lm_params[5+i*6:8+i*6]\n",
    "        t = lm_params[8+i*6:11+i*6]\n",
    "        phi = np.linalg.norm(w)\n",
    "        wx = np.array([[0, -w[2], w[1]], [w[2],0,-w[0]], [-w[1],w[0],0]])\n",
    "        R = np.eye(3) + np.sin(phi)/phi*wx + (1-np.cos(phi))/(phi**2) * np.dot(wx, wx)\n",
    "        R_list.append(R)\n",
    "        t_list.append(t)\n",
    "    return R_list, t_list, K\n",
    "\n",
    "\n",
    "def radial_distort(itscs, k1, k2, x0, y0):\n",
    "    # Remove radial distortions\n",
    "    x = itscs[:,0]\n",
    "    y = itscs[:,1]\n",
    "    r = (x-x0)**2 + (y-y0)**2\n",
    "    x_rad = x + (x-x0) * (k1*r + k2*(r**2)) \n",
    "    y_rad = y + (y-y0) * (k1*r + k2*(r**2)) \n",
    "    return np.hstack([x_rad.reshape((-1, 1)), y_rad.reshape((-1, 1))])\n",
    "\n",
    "\n",
    "def cost_Func(params, itsc_list, pattern, with_rd=False):\n",
    "    num_Img = len(itsc_list)\n",
    "    if with_rd:\n",
    "        R_list, t_list, K = reconstruct_mat(params[:-2])\n",
    "        k1 = params[-2]\n",
    "        k2 = params[-1]\n",
    "        x0 = params[2]\n",
    "        y0 = params[4]\n",
    "    else:\n",
    "        R_list, t_list, K = reconstruct_mat(params)\n",
    "    Proj_pattern = []\n",
    "    for R, t in zip(R_list, t_list):\n",
    "        Rt = np.concatenate([R[:,0:1], R[:,1:2], t.reshape((-1,1))], axis=1)\n",
    "        H = np.dot(K, Rt)\n",
    "        reconst_p = projTransform(H, pattern)\n",
    "        if with_rd:\n",
    "            reconst_p = radial_distort(reconst_p, k1, k2, x0, y0)\n",
    "        Proj_pattern.append(reconst_p)\n",
    "    projec_itscs = np.concatenate(Proj_pattern, axis=0)\n",
    "    gt_ptrns = np.concatenate(itsc_list, axis=0)\n",
    "    diff = projec_itscs - gt_ptrns\n",
    "    return diff.flatten()\n",
    "\n",
    "def error(diff):\n",
    "    diff = diff.reshape((-1, 2))\n",
    "    diff_norm = np.linalg.norm(diff, axis=1)\n",
    "    e = np.average(diff_norm)\n",
    "    var = np.var(diff_norm)\n",
    "    max_d = np.max(diff_norm)\n",
    "    return np.array([e, var, max_d])\n",
    "\n",
    "def measure(diff):\n",
    "    diff = diff.reshape((-1, 2))\n",
    "    diff_norm = np.linalg.norm(diff, axis=1)\n",
    "    num_Img = int(diff_norm.shape[0]/80)\n",
    "    measured = []\n",
    "    for i in range(num_Img):\n",
    "        measure_imgi = {}\n",
    "        current_d = diff_norm[i*80:i*80+80]\n",
    "        measure_imgi[\"Means\"] = np.average(current_d)\n",
    "        measure_imgi[\"Variances\"] = np.var(current_d)\n",
    "        measure_imgi[\"max_distance\"] = np.max(current_d)\n",
    "        measured.append(measure_imgi)\n",
    "    return measured"
   ]
  },
  {
   "cell_type": "code",
   "execution_count": 7,
   "metadata": {},
   "outputs": [],
   "source": [
    "def measure_proj(pattern, itsc_list, valid_idlist, images, params, status='before'):\n",
    "    if params.shape[0] % 6 == 1:\n",
    "        R_list, t_list, K = reconstruct_mat(params[:-2])\n",
    "        k1 = params[-2]\n",
    "        k2 = params[-1]\n",
    "        x0 = params[2]\n",
    "        y0 = params[4]\n",
    "    else:\n",
    "        R_list, t_list, K = reconstruct_mat(params)\n",
    "    H_list = []\n",
    "    for R, t in zip(R_list, t_list):\n",
    "        Rt = np.concatenate([R[:,0:1], R[:,1:2], t.reshape((-1,1))], axis=1)\n",
    "        H = np.dot(K, Rt)\n",
    "        H_list.append(H)\n",
    "\n",
    "    diff_list = []\n",
    "    for i, H in enumerate(H_list):\n",
    "        img_idx = valid_idlist[i]\n",
    "        img_i = images[img_idx]\n",
    "        projed = projTransform(H, pattern)\n",
    "        if params.shape[0] % 6 == 1:\n",
    "            projed = projTransform(H, pattern)\n",
    "            projed = radial_distort(projed, k1, k2, x0, y0)\n",
    "        else:\n",
    "            projed = projTransform(H, pattern)\n",
    "        proj_img = drawPoints(img_i, projed, with_text=True, c=(0, 255, 255))\n",
    "        cv2.imwrite(os.path.join(path_root, \"proj_\"+status,\\\n",
    "                     \"to\"+str(img_idx+1)+'.jpg'), proj_img)\n",
    "        diff = itsc_list[i] - projed\n",
    "        diff_list.append(diff)\n",
    "    e = error(np.array(diff_list).flatten())\n",
    "    measure_params = measure(np.array(diff_list).flatten())\n",
    "    return e, measure_params    \n",
    "\n",
    "def reproject(static_idx, valid_idlist, images, params, itsc_list, status='before'):\n",
    "    img_idx = valid_idlist[static_idx]\n",
    "    static_img = np.copy(images[img_idx])\n",
    "    static_itscs = itsc_list[static_idx]\n",
    "    static_img = drawPoints(static_img, static_itscs)\n",
    "    if status == 'withrad':\n",
    "        R_list, t_list, K = reconstruct_mat(params[:-2])\n",
    "        k1 = params[-2]\n",
    "        k2 = params[-1]\n",
    "        x0 = params[2]\n",
    "        y0 = params[4]\n",
    "    else:\n",
    "        R_list, t_list, K = reconstruct_mat(params)\n",
    "    H_list = []\n",
    "    for R, t in zip(R_list, t_list):\n",
    "        Rt = np.concatenate([R[:,0:1], R[:,1:2], t.reshape((-1,1))], axis=1)\n",
    "        H = np.dot(K, Rt)\n",
    "        H_list.append(H)\n",
    "    sH = H_list[static_idx]\n",
    "    diff_list = []\n",
    "    for i, H in enumerate(H_list):\n",
    "        if i == static_idx:\n",
    "            continue\n",
    "        img_i = valid_idlist[i]\n",
    "        H_i_s = np.dot(sH, np.linalg.inv(H))\n",
    "        reprojed = projTransform(H_i_s, itsc_list[i])\n",
    "        reproj_img = drawPoints(static_img, reprojed, with_text=False, c=(0, 255, 0))\n",
    "        cv2.imwrite(os.path.join(path_root, \"reproj_\"+status, \\\n",
    "                    str(img_i+1)+'to'+str(valid_idlist[static_idx]+1)+'.jpg'), reproj_img)\n",
    "        diff = static_itscs - reprojed\n",
    "        diff_list.append(diff)\n",
    "    e = error(np.array(diff_list).flatten())\n",
    "    measure_params = measure(np.array(diff_list).flatten())\n",
    "    return e, measure_params"
   ]
  },
  {
   "cell_type": "code",
   "execution_count": 14,
   "metadata": {
    "tags": []
   },
   "outputs": [
    {
     "output_type": "stream",
     "name": "stdout",
     "text": [
      "Total number of images being detected 80 intersections: 38\nThey are (indices): [0, 1, 2, 4, 5, 6, 7, 8, 10, 11, 12, 13, 14, 15, 16, 17, 18, 19, 20, 21, 22, 23, 24, 25, 26, 27, 28, 29, 30, 31, 32, 33, 34, 35, 36, 37, 38, 39]\n"
     ]
    }
   ],
   "source": [
    "gt_pattern = make_pattern(grid_size=10, hline_num=10, vline_num=8)\n",
    "\n",
    "H_list = []\n",
    "valid_image_ids = []\n",
    "itsc_list = []\n",
    "\n",
    "# for the given images:\n",
    "nms = 0.25\n",
    "rsl = 0.5\n",
    "thres = 50\n",
    "\n",
    "# for my own images:\n",
    "# nms = 0.28\n",
    "# rsl = 0.6\n",
    "# thres = 70\n",
    "for i, image in enumerate(images):\n",
    "    itscs = extract_intersections_from_image(image, nms, i+1, rsl, thres, save_imgs=False)\n",
    "    if itscs.shape[0] == 80:\n",
    "        H = findHomoproj(gt_pattern, itscs)\n",
    "        H_list.append(H)\n",
    "        itsc_list.append(itscs)\n",
    "        valid_image_ids.append(i)\n",
    "print(\"Total number of images being detected 80 intersections:\", len(valid_image_ids))\n",
    "print(\"They are (indices):\", valid_image_ids)"
   ]
  },
  {
   "cell_type": "code",
   "execution_count": 15,
   "metadata": {},
   "outputs": [],
   "source": [
    "omega = findOmega(H_list)\n",
    "K = findK(omega)\n",
    "R_list, t_list = findRt(H_list, K)\n",
    "params = construct_params(R_list, t_list, K)\n",
    "loss = cost_Func(params, itsc_list, pattern=gt_pattern)\n",
    "sol = least_squares(cost_Func, params, method = 'lm', args=[itsc_list, gt_pattern])\n",
    "R_list_refined, t_list_refined, K_refined = reconstruct_mat(sol.x)"
   ]
  },
  {
   "cell_type": "code",
   "execution_count": 16,
   "metadata": {},
   "outputs": [],
   "source": [
    "sol_rad = least_squares(cost_Func, np.append(params, np.array([0, 0])), \\\n",
    "                        method = 'lm', args=[itsc_list, gt_pattern, True])\n",
    "R_list_refined_wr, t_list_refined_wr, K_refined_wr = reconstruct_mat(sol_rad.x[:-2])\n",
    "radparam = sol_rad.x[-2:]"
   ]
  },
  {
   "cell_type": "code",
   "execution_count": 17,
   "metadata": {},
   "outputs": [],
   "source": [
    "_, measure_nolm= measure_proj(gt_pattern, itsc_list, valid_image_ids, images, params, \"before\")\n",
    "_, measure_lm= measure_proj(gt_pattern, itsc_list, valid_image_ids, images, sol_rad.x, \"after\")"
   ]
  },
  {
   "cell_type": "code",
   "execution_count": 18,
   "metadata": {},
   "outputs": [
    {
     "output_type": "stream",
     "name": "stdout",
     "text": [
      "measure the projection on image 13 {'Means': 1.405508593498772, 'Variances': 0.5754588146748502, 'max_distance': 3.6090758821143263} {'Means': 0.6628033778138068, 'Variances': 0.18487534855306392, 'max_distance': 2.0063130567464604}\nmeasure the projection on image 39 {'Means': 2.3279341625569026, 'Variances': 1.256986250409295, 'max_distance': 4.4349860626486075} {'Means': 0.6472384336808289, 'Variances': 0.1455513066032031, 'max_distance': 1.6759228782584525}\n"
     ]
    }
   ],
   "source": [
    "print(\"measure the projection on image\", valid_image_ids[10]+1, measure_nolm[10], measure_lm[10])\n",
    "print(\"measure the projection on image\", valid_image_ids[36]+1, measure_nolm[36], measure_lm[36])"
   ]
  },
  {
   "cell_type": "code",
   "execution_count": 19,
   "metadata": {},
   "outputs": [
    {
     "output_type": "stream",
     "name": "stdout",
     "text": [
      "k1, k2: [-2.78653796e-07  1.67408406e-12]\n"
     ]
    }
   ],
   "source": [
    "print(\"k1, k2:\", radparam)"
   ]
  },
  {
   "cell_type": "code",
   "execution_count": 28,
   "metadata": {},
   "outputs": [
    {
     "output_type": "stream",
     "name": "stdout",
     "text": [
      "[[715.26056651   1.35239506 321.46256956]\n [  0.         713.20148519 241.27323131]\n [  0.           0.           1.        ]]\n[[721.28487293   2.21324112 321.60494639]\n [  0.         719.06088722 241.98708014]\n [  0.           0.           1.        ]]\n[[726.80660212   2.24147592 319.62002134]\n [  0.         724.86727744 243.84747709]\n [  0.           0.           1.        ]]\nProject the gt pattern to image: 1 the ratation matrices:\n[[ 0.78969024 -0.18365526  0.58537174]\n [ 0.20173691  0.9788162   0.03494375]\n [-0.57938895  0.09049635  0.81001164]] [-18.86263977 -51.45447105 217.69421752]\n[[ 0.78421368 -0.18371118  0.59267117]\n [ 0.20236239  0.97866361  0.03559493]\n [-0.58656489  0.09202033  0.80465762]] [-18.73896354 -51.31944393 218.22265325]\n[[ 0.78173307 -0.18341969  0.59602905]\n [ 0.20376376  0.97843474  0.03384958]\n [-0.58938421  0.09498779  0.80224907]] [-18.10275049 -51.87239976 218.65654035]\nProject the gt pattern to image: 9 the ratation matrices:\n[[ 0.89685013 -0.08142804  0.43477502]\n [-0.1657805   0.84939075  0.50105107]\n [-0.41009348 -0.52144494  0.74827703]] [-21.79516927 -38.91104155 237.68495989]\n[[ 0.8857019  -0.09061142  0.45532594]\n [-0.17078382  0.84840282  0.50104445]\n [-0.43170016 -0.52153833  0.73595703]] [-21.5761228  -38.64140146 237.68875398]\n[[ 0.88388455 -0.0925531   0.45845613]\n [-0.17037413  0.84915856  0.49990239]\n [-0.43556946 -0.51996507  0.73478948]] [-20.87033735 -39.19259132 238.17841355]\nProject the gt pattern to image: 21 the ratation matrices:\n[[ 0.78164511 -0.18222437  0.59651086]\n [ 0.16684463  0.98260551  0.08154316]\n [-0.60099401  0.03578683  0.79845194]] [-38.87149132 -55.15526859 193.37919682]\n[[ 0.78842526 -0.18175942  0.58766412]\n [ 0.17165972  0.98240714  0.07354694]\n [-0.59069328  0.04289199  0.80575538]] [-39.14675111 -55.99414648 196.26083327]\n[[ 0.78773629 -0.18171635  0.58860064]\n [ 0.17352124  0.98226573  0.07102399]\n [-0.59106846  0.04618654  0.80529801]] [-38.64058904 -56.50722876 196.28553135]\nProject the gt pattern to image: 39 the ratation matrices:\n[[ 0.89575593 -0.01515118  0.44428792]\n [ 0.10256227  0.97950024 -0.17337896]\n [-0.43255323  0.20087241  0.87894709]] [-19.4352612  -45.10265169 205.51592396]\n[[ 0.88660417 -0.014064    0.46231509]\n [ 0.10451916  0.97977504 -0.17063592]\n [-0.45056496  0.1996073   0.8701426 ]] [-19.26178747 -44.81636063 205.94827713]\n[[ 0.88432193 -0.01311955  0.46669326]\n [ 0.10591727  0.97917962 -0.17317276]\n [-0.45470458  0.20257134  0.8672996 ]] [-18.67064242 -45.34374734 206.21328755]\n"
     ]
    }
   ],
   "source": [
    "print(K)\n",
    "print(K_refined)\n",
    "print(K_refined_wr)\n",
    "# [0, 7, 18, 36] for given images\n",
    "# [3, 5, 8, 15] for my own images\n",
    "for i in [0, 7, 18, 36]:\n",
    "    print(\"Project the gt pattern to image:\", valid_image_ids[i]+1, \"the ratation matrices:\")\n",
    "    print(R_list[i], t_list[i])\n",
    "    print(R_list_refined[i], t_list_refined[i])\n",
    "    print(R_list_refined_wr[i], t_list_refined_wr[i])"
   ]
  },
  {
   "cell_type": "code",
   "execution_count": 23,
   "metadata": {},
   "outputs": [
    {
     "output_type": "stream",
     "name": "stdout",
     "text": [
      "[1.02660864 0.5971901  5.80386693]\n[0.61186023 0.12041647 2.68659401]\n[0.54191563 0.11181598 2.64409102]\n"
     ]
    }
   ],
   "source": [
    "print(error(cost_Func(params, itsc_list, pattern=gt_pattern)))\n",
    "print(error(cost_Func(sol.x, itsc_list, pattern=gt_pattern)))\n",
    "print(error(cost_Func(sol_rad.x, itsc_list, pattern=gt_pattern, with_rd=True)))"
   ]
  },
  {
   "cell_type": "code",
   "execution_count": 24,
   "metadata": {},
   "outputs": [
    {
     "output_type": "stream",
     "name": "stdout",
     "text": [
      "Overall projection error, var, and max distance before refinement: [1.11176991 0.58382432 5.7851888 ]\n"
     ]
    }
   ],
   "source": [
    "fix_id = 1\n",
    "e_before, measured_before = reproject(fix_id, valid_image_ids, images, params, itsc_list, status='before')\n",
    "print(\"Overall reprojection error, var, and max distance before refinement:\", e_before)"
   ]
  },
  {
   "cell_type": "code",
   "execution_count": 25,
   "metadata": {},
   "outputs": [
    {
     "output_type": "stream",
     "name": "stdout",
     "text": [
      "Overall projection error, var, and max distance after refinement: [0.75207916 0.19678446 2.59671455]\n"
     ]
    }
   ],
   "source": [
    "e_after, measured_after = reproject(fix_id, valid_image_ids, images, sol.x, itsc_list, status='after')\n",
    "print(\"Overall reprojection error, var, and max distance after refinement:\", e_after)"
   ]
  },
  {
   "cell_type": "code",
   "execution_count": 26,
   "metadata": {},
   "outputs": [
    {
     "output_type": "stream",
     "name": "stdout",
     "text": [
      "image: 6\n{'Means': 0.8069123057519481, 'Variances': 0.22831790100874771, 'max_distance': 2.3479013181592445}\n{'Means': 0.5621409885833671, 'Variances': 0.10275590826528272, 'max_distance': 1.4607717999825374}\nimage: 10\n{'Means': 0.7487836815355782, 'Variances': 0.17997481981543362, 'max_distance': 1.8607884788369713}\n{'Means': 0.6568231188114859, 'Variances': 0.11125965030656337, 'max_distance': 1.6444096575914868}\nimage: 13\n{'Means': 1.3277085222360587, 'Variances': 0.37978205849441193, 'max_distance': 2.697132513285014}\n{'Means': 0.8290187982166399, 'Variances': 0.22098992730580483, 'max_distance': 1.9460612380815088}\nimage: 40\n{'Means': 1.484057723068758, 'Variances': 0.7724892103598325, 'max_distance': 3.295636020844551}\n{'Means': 0.8429180960486141, 'Variances': 0.16654180125768897, 'max_distance': 1.5819987414394998}\n"
     ]
    }
   ],
   "source": [
    "# [3, 7, 9, 36] for the given images\n",
    "# [2, 4, 7, 14] for my own images\n",
    "for i in [3, 7, 9, 36]:\n",
    "    if i < fix_id:\n",
    "        print(\"image:\", valid_image_ids[i]+1)\n",
    "    else:\n",
    "        print(\"image:\", valid_image_ids[i]+2)\n",
    "    print(measured_before[i])\n",
    "    print(measured_after[i])"
   ]
  },
  {
   "cell_type": "code",
   "execution_count": null,
   "metadata": {},
   "outputs": [],
   "source": []
  }
 ]
}